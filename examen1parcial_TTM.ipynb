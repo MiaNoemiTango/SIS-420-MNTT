{
  "nbformat": 4,
  "nbformat_minor": 0,
  "metadata": {
    "colab": {
      "provenance": [],
      "collapsed_sections": []
    },
    "kernelspec": {
      "name": "python3",
      "display_name": "Python 3"
    },
    "language_info": {
      "name": "python"
    }
  },
  "cells": [
    {
      "cell_type": "code",
      "execution_count": 2,
      "metadata": {
        "id": "mcisWJLz3IUq"
      },
      "outputs": [],
      "source": [
        "#Tango Torres Mia Noemi\n",
        "#Ingeniera en Diseño y Animacion Digital\n",
        "\n",
        "import time\n",
        "\n",
        "class Nodo:\n",
        "    #self se puede acceder a sus funciones que se esta declarando \n",
        "    #hace su funcion para declarar que \n",
        "\n",
        "    def __init__(self, datos, hijo=None):\n",
        "        self.datos = datos\n",
        "        self.hijos = []\n",
        "        self.padre = None\n",
        "        self.costo = None \n",
        "       \n",
        "        self.set_hijo(hijo)\n",
        "        \n",
        "    def set_hijo(self, hijo):\n",
        "        if (hijo is not None):\n",
        "            self.hijos.append(hijo)\n",
        "            if self.hijos is not None:\n",
        "                for h in self.hijos:\n",
        "                    h.padre = self\n",
        "                \n",
        "    def get_hijos(self):\n",
        "        return self.hijos\n",
        "    \n",
        "    def set_padre(self, padre):\n",
        "        self.padre = padre\n",
        "        \n",
        "    def get_padre(self):\n",
        "        return self.padre\n",
        "\n",
        "    def set_datos(self, datos):\n",
        "        self.datos = datos\n",
        "    \n",
        "    def get_datos(self):\n",
        "        return self.datos\n",
        "    \n",
        "    def set_costo(self, costo):\n",
        "        self.costo = costo\n",
        "        \n",
        "    def get_costo(self):\n",
        "        return self.costo\n",
        "    \n",
        "    def equal(self, nodo):\n",
        "        if self.get_datos() == nodo.get_datos():\n",
        "            return True\n",
        "        else:\n",
        "            return False\n",
        "    \n",
        "    def en_lista(self, lista_nodos):\n",
        "        enlistado = False\n",
        "        for n in lista_nodos:\n",
        "            if self.equal(n):\n",
        "                enlistado = True\n",
        "        return enlistado\n",
        "    \n",
        "    def __str__(self):\n",
        "        return str(self.get_datos())\n",
        "\n"
      ]
    },
    {
      "cell_type": "code",
      "source": [
        "    \n",
        "def bpa(estado_inicio, estado_solucion):\n",
        "    resuelto = False\n",
        "    nodos_visitados = []\n",
        "    nodos_frontera = []\n",
        "    nodo_inicio = Nodo(estado_inicio)\n",
        "    nodos_frontera.append(nodo_inicio)\n",
        "    numero_fichas = 10\n",
        "    while resuelto == False and len(nodos_frontera) != 0:\n",
        "        #FIFO - cola\n",
        "        nodo_actual = nodos_frontera.pop(0) \n",
        "        nodos_visitados.append(nodo_actual)\n",
        "        if nodo_actual.get_datos() == estado_solucion:\n",
        "            resuelto = True\n",
        "            return nodo_actual\n",
        "        else:\n",
        "            hijo1_datos = nodo_actual.get_datos().copy()\n",
        "            hijo=hijo1_datos\n",
        "            for i in range (1,numero_fichas):   \n",
        "                for j in range(0,numero_fichas-1): #primero expandiremos el for j para llegar a la solucion mas apta\n",
        "\n",
        "                 if hijo1_datos[j]>hijo1_datos[j+1]: # el que este a la izquierda sea mayor al de la derecha 3, 4\n",
        "\n",
        "                    temp = hijo1_datos[j]\n",
        "                    n=j+1\n",
        "                    hijo[j] = hijo[n]\n",
        "                    hijo[n] = temp\n",
        "                    hijo1 = Nodo(hijo)\n",
        "                    print(hijo1_datos)\n",
        "\n",
        "                    if not hijo1.en_lista(nodos_visitados) and not hijo1.en_lista(nodos_frontera):\n",
        "                        nodo_actual.set_hijo(hijo1)\n",
        "                        nodos_frontera.append(hijo1)"
      ],
      "metadata": {
        "id": "4GFENUeKPYem"
      },
      "execution_count": 3,
      "outputs": []
    },
    {
      "cell_type": "code",
      "source": [
        "           \n",
        "if __name__ == \"__main__\":\n",
        "  \n",
        "    estado_inicial = [ 2, 3, 5, 4, 6, 7, 8, 1, 9, 10, 11, 12, 13, 14, 15, 16]\n",
        "    solucion = [ 1, 2, 3, 4, 5, 6, 7, 8, 9, 10, 11, 12, 13, 14, 15, 16]\n",
        "    start = time.time()\n",
        "    nodo_solucion = bpa(estado_inicial, solucion)\n",
        "    end =time.time()\n",
        "\n",
        "    print('Tiempo de ejecucion : ',end-start, 'seg.','\\n')\n",
        "    # mostrar resultado\n",
        "    resultado = []\n",
        "    nodo_actual = nodo_solucion\n",
        "    while nodo_actual.get_padre() is not None:\n",
        "        resultado.append(nodo_actual.get_datos())\n",
        "        nodo_actual = nodo_actual.get_padre()\n",
        "\n",
        "    resultado.append(estado_inicial)\n",
        "    resultado.reverse()\n",
        "    #print('\\n',resultado)\n",
        "    print('Movimientos : \\n')\n",
        "    \n",
        "    for j in range(len(resultado)):\n",
        "      print(resultado[j])"
      ],
      "metadata": {
        "colab": {
          "base_uri": "https://localhost:8080/"
        },
        "id": "-qI2sTzzPg9j",
        "outputId": "2c30f190-596e-4f14-c5aa-5c710a13def9"
      },
      "execution_count": 4,
      "outputs": [
        {
          "output_type": "stream",
          "name": "stdout",
          "text": [
            "[2, 3, 4, 5, 6, 7, 8, 1, 9, 10, 11, 12, 13, 14, 15, 16]\n",
            "[2, 3, 4, 5, 6, 7, 1, 8, 9, 10, 11, 12, 13, 14, 15, 16]\n",
            "[2, 3, 4, 5, 6, 1, 7, 8, 9, 10, 11, 12, 13, 14, 15, 16]\n",
            "[2, 3, 4, 5, 1, 6, 7, 8, 9, 10, 11, 12, 13, 14, 15, 16]\n",
            "[2, 3, 4, 1, 5, 6, 7, 8, 9, 10, 11, 12, 13, 14, 15, 16]\n",
            "[2, 3, 1, 4, 5, 6, 7, 8, 9, 10, 11, 12, 13, 14, 15, 16]\n",
            "[2, 1, 3, 4, 5, 6, 7, 8, 9, 10, 11, 12, 13, 14, 15, 16]\n",
            "[1, 2, 3, 4, 5, 6, 7, 8, 9, 10, 11, 12, 13, 14, 15, 16]\n",
            "Tiempo de ejecucion :  0.0008966922760009766 seg. \n",
            "\n",
            "Movimientos : \n",
            "\n",
            "[2, 3, 5, 4, 6, 7, 8, 1, 9, 10, 11, 12, 13, 14, 15, 16]\n",
            "[1, 2, 3, 4, 5, 6, 7, 8, 9, 10, 11, 12, 13, 14, 15, 16]\n"
          ]
        }
      ]
    }
  ]
}